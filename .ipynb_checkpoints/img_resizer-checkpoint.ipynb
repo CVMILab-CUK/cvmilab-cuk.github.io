{
 "cells": [
  {
   "cell_type": "code",
   "execution_count": 1,
   "id": "8fe3f041-de6d-4f0e-bf16-aa2bd75ba2be",
   "metadata": {},
   "outputs": [],
   "source": [
    "import os, glob\n",
    "import cv2\n",
    "import numpy as np\n",
    "import sys"
   ]
  },
  {
   "cell_type": "code",
   "execution_count": 2,
   "id": "480d5f97-212a-43cc-8b81-426348af920a",
   "metadata": {},
   "outputs": [],
   "source": [
    "img_path = glob.glob(os.path.join(\"images\",\"peoples\", \"*\"))\n",
    "img_size = (192,256)"
   ]
  },
  {
   "cell_type": "code",
   "execution_count": 3,
   "id": "0be4c795-4407-480b-b58a-5ef3a82b675b",
   "metadata": {},
   "outputs": [
    {
     "name": "stdout",
     "output_type": "stream",
     "text": [
      "(256, 192, 3)\n",
      "(256, 192, 3)\n",
      "(256, 192, 3)\n",
      "(256, 192, 3)\n",
      "(256, 192, 3)\n"
     ]
    }
   ],
   "source": [
    "for i in img_path:\n",
    "    img = cv2.imread(i)\n",
    "    img = cv2.resize(img, img_size)\n",
    "    print(np.shape(img))\n",
    "    # cv2.imshow(\"test\", img)\n",
    "    cv2.imwrite(i, img)\n",
    "    # sys.exit()"
   ]
  },
  {
   "cell_type": "code",
   "execution_count": 4,
   "id": "507249b6-1a4b-4363-bf18-85edc5c0ddb8",
   "metadata": {},
   "outputs": [],
   "source": [
    "img_path = glob.glob(os.path.join(\"images\",\"main\", \"*\"))\n",
    "img_size = (1200, 800)"
   ]
  },
  {
   "cell_type": "code",
   "execution_count": 5,
   "id": "a30b437c-cad1-4549-bb50-407301300792",
   "metadata": {},
   "outputs": [
    {
     "name": "stdout",
     "output_type": "stream",
     "text": [
      "(800, 1200, 3)\n"
     ]
    }
   ],
   "source": [
    "for i in img_path:\n",
    "    img = cv2.imread(i)\n",
    "    img = cv2.resize(img, img_size)\n",
    "    print(np.shape(img))\n",
    "    # cv2.imshow(\"test\", img)\n",
    "    cv2.imwrite(i, img)\n",
    "    # sys.exit()"
   ]
  }
 ],
 "metadata": {
  "kernelspec": {
   "display_name": "Python 3 (ipykernel)",
   "language": "python",
   "name": "python3"
  },
  "language_info": {
   "codemirror_mode": {
    "name": "ipython",
    "version": 3
   },
   "file_extension": ".py",
   "mimetype": "text/x-python",
   "name": "python",
   "nbconvert_exporter": "python",
   "pygments_lexer": "ipython3",
   "version": "3.9.18"
  }
 },
 "nbformat": 4,
 "nbformat_minor": 5
}
